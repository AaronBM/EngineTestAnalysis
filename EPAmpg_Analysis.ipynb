{
  "nbformat": 4,
  "nbformat_minor": 0,
  "metadata": {
    "colab": {
      "name": "EPAmpg_Analysis.ipynb",
      "provenance": [],
      "collapsed_sections": [],
      "authorship_tag": "ABX9TyP00w41TI+ygAgSUy59aM1F",
      "include_colab_link": true
    },
    "kernelspec": {
      "name": "python3",
      "display_name": "Python 3"
    },
    "language_info": {
      "name": "python"
    }
  },
  "cells": [
    {
      "cell_type": "markdown",
      "metadata": {
        "id": "view-in-github",
        "colab_type": "text"
      },
      "source": [
        "<a href=\"https://colab.research.google.com/github/AaronBM/EngineTestAnalysis/blob/main/EPAmpg_Analysis.ipynb\" target=\"_parent\"><img src=\"https://colab.research.google.com/assets/colab-badge.svg\" alt=\"Open In Colab\"/></a>"
      ]
    },
    {
      "cell_type": "markdown",
      "metadata": {
        "id": "3cgcDCQrD0pn"
      },
      "source": [
        "References\n",
        "\n",
        "https://districtdatalabs.silvrback.com/data-exploration-with-python-2\n",
        "\n",
        "https://realpython.com/pandas-sort-python/\n",
        "\n",
        "https://fueleconomy.gov/feg/download.shtml\n",
        "\n",
        "https://nycdatascience.com/blog/student-works/mpgview/\n",
        "\n",
        "https://github.com/mainkoon81/U002-project-Python-Fuel-Economy-data-Assessment"
      ]
    },
    {
      "cell_type": "markdown",
      "metadata": {
        "id": "5hjA9M4k_VCI"
      },
      "source": [
        "#  Importing data from EPA.gov zip file with python\n",
        "\n",
        "###  This process could be repeated for any similar .csv file that has clear header information in the first row and data in the following rows.  The filename must be continious without spaces or slashes, preferably only underscores.\n",
        "\n",
        "First step is to import the necessary python packages for handling large dataframes and simple input/output.\n"
      ]
    },
    {
      "cell_type": "code",
      "metadata": {
        "id": "4xynWNpVOD7V"
      },
      "source": [
        "import pandas as pd\n",
        "import io"
      ],
      "execution_count": null,
      "outputs": []
    },
    {
      "cell_type": "markdown",
      "metadata": {
        "id": "3nSf8Q0AAKIM"
      },
      "source": [
        "Second step is to import a special package for interfacing with the Google Colab environment.\n",
        "\n",
        "The files.upload() command should provide a prompt to select a file locally and import it into the workspace.  Other options for including data in a google drive also exist, but aren't covered here.\n",
        "\n",
        "I used Google Chrome for this to work.  I had an issue using Mozilla Firefox and the prompt not appearing."
      ]
    },
    {
      "cell_type": "code",
      "metadata": {
        "colab": {
          "resources": {
            "http://localhost:8080/nbextensions/google.colab/files.js": {
              "data": "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",
              "ok": true,
              "headers": [
                [
                  "content-type",
                  "application/javascript"
                ]
              ],
              "status": 200,
              "status_text": ""
            }
          },
          "base_uri": "https://localhost:8080/",
          "height": 73
        },
        "id": "p0uAvqfDOkaM",
        "outputId": "4147ede2-b98e-436e-90a8-2e2d275e5bcd"
      },
      "source": [
        "from google.colab import files\n",
        "NewData = files.upload()"
      ],
      "execution_count": null,
      "outputs": [
        {
          "output_type": "display_data",
          "data": {
            "text/html": [
              "\n",
              "     <input type=\"file\" id=\"files-a54ba366-3164-425d-8d10-e315c5eed751\" name=\"files[]\" multiple disabled\n",
              "        style=\"border:none\" />\n",
              "     <output id=\"result-a54ba366-3164-425d-8d10-e315c5eed751\">\n",
              "      Upload widget is only available when the cell has been executed in the\n",
              "      current browser session. Please rerun this cell to enable.\n",
              "      </output>\n",
              "      <script src=\"/nbextensions/google.colab/files.js\"></script> "
            ],
            "text/plain": [
              "<IPython.core.display.HTML object>"
            ]
          },
          "metadata": {
            "tags": []
          }
        },
        {
          "output_type": "stream",
          "text": [
            "Saving Medicare_Diabetes_Prevention_Program_4.21.21.csv to Medicare_Diabetes_Prevention_Program_4.21.21.csv\n"
          ],
          "name": "stdout"
        }
      ]
    },
    {
      "cell_type": "markdown",
      "metadata": {
        "id": "p9hCv4GJAn6s"
      },
      "source": [
        "This step assigns the .csv data uploaded into the workspace as a dataframe for use with pandas."
      ]
    },
    {
      "cell_type": "code",
      "metadata": {
        "id": "FTYjqk9pFDeL"
      },
      "source": [
        "column_subset = [\n",
        "...     \"id\",\n",
        "...     \"make\",\n",
        "...     \"model\",\n",
        "...     \"year\",\n",
        "...     \"cylinders\",\n",
        "...     \"fuelType\",\n",
        "...     \"trany\",\n",
        "...     \"mpgData\",\n",
        "...     \"city08\",\n",
        "...     \"highway08\"\n",
        "... ]"
      ],
      "execution_count": null,
      "outputs": []
    },
    {
      "cell_type": "code",
      "metadata": {
        "id": "ItA7Vvd1Pelw"
      },
      "source": [
        "#filename = r'https://fueleconomy.gov/feg/epadata/vehicles.csv'\n",
        "EPAdata = pd.read_csv(r'https://fueleconomy.gov/feg/epadata/vehicles.csv',usecols=column_subset)\n"
      ],
      "execution_count": null,
      "outputs": []
    },
    {
      "cell_type": "code",
      "metadata": {
        "id": "kZVc5SsAOk1Q",
        "colab": {
          "base_uri": "https://localhost:8080/",
          "height": 935
        },
        "outputId": "fc65d398-093b-47b0-fb3a-c94806638f11"
      },
      "source": [
        "# This will print out the first 3 rows of data for review.\n",
        "EPAdata.tail(30)"
      ],
      "execution_count": null,
      "outputs": [
        {
          "output_type": "execute_result",
          "data": {
            "text/html": [
              "<div>\n",
              "<style scoped>\n",
              "    .dataframe tbody tr th:only-of-type {\n",
              "        vertical-align: middle;\n",
              "    }\n",
              "\n",
              "    .dataframe tbody tr th {\n",
              "        vertical-align: top;\n",
              "    }\n",
              "\n",
              "    .dataframe thead th {\n",
              "        text-align: right;\n",
              "    }\n",
              "</style>\n",
              "<table border=\"1\" class=\"dataframe\">\n",
              "  <thead>\n",
              "    <tr style=\"text-align: right;\">\n",
              "      <th></th>\n",
              "      <th>city08</th>\n",
              "      <th>cylinders</th>\n",
              "      <th>fuelType</th>\n",
              "      <th>highway08</th>\n",
              "      <th>id</th>\n",
              "      <th>make</th>\n",
              "      <th>model</th>\n",
              "      <th>mpgData</th>\n",
              "      <th>trany</th>\n",
              "      <th>year</th>\n",
              "    </tr>\n",
              "  </thead>\n",
              "  <tbody>\n",
              "    <tr>\n",
              "      <th>43466</th>\n",
              "      <td>23</td>\n",
              "      <td>4.0</td>\n",
              "      <td>Regular</td>\n",
              "      <td>29</td>\n",
              "      <td>9972</td>\n",
              "      <td>Plymouth</td>\n",
              "      <td>Sundance/Duster</td>\n",
              "      <td>N</td>\n",
              "      <td>Manual 5-spd</td>\n",
              "      <td>1993</td>\n",
              "    </tr>\n",
              "    <tr>\n",
              "      <th>43467</th>\n",
              "      <td>21</td>\n",
              "      <td>4.0</td>\n",
              "      <td>Regular</td>\n",
              "      <td>26</td>\n",
              "      <td>9973</td>\n",
              "      <td>Plymouth</td>\n",
              "      <td>Sundance/Duster</td>\n",
              "      <td>N</td>\n",
              "      <td>Automatic 3-spd</td>\n",
              "      <td>1993</td>\n",
              "    </tr>\n",
              "    <tr>\n",
              "      <th>43468</th>\n",
              "      <td>22</td>\n",
              "      <td>4.0</td>\n",
              "      <td>Regular</td>\n",
              "      <td>29</td>\n",
              "      <td>9974</td>\n",
              "      <td>Plymouth</td>\n",
              "      <td>Sundance/Duster</td>\n",
              "      <td>N</td>\n",
              "      <td>Manual 5-spd</td>\n",
              "      <td>1993</td>\n",
              "    </tr>\n",
              "    <tr>\n",
              "      <th>43469</th>\n",
              "      <td>18</td>\n",
              "      <td>6.0</td>\n",
              "      <td>Regular</td>\n",
              "      <td>26</td>\n",
              "      <td>9975</td>\n",
              "      <td>Plymouth</td>\n",
              "      <td>Sundance/Duster</td>\n",
              "      <td>N</td>\n",
              "      <td>Automatic 4-spd</td>\n",
              "      <td>1993</td>\n",
              "    </tr>\n",
              "    <tr>\n",
              "      <th>43470</th>\n",
              "      <td>17</td>\n",
              "      <td>6.0</td>\n",
              "      <td>Regular</td>\n",
              "      <td>26</td>\n",
              "      <td>9976</td>\n",
              "      <td>Plymouth</td>\n",
              "      <td>Sundance/Duster</td>\n",
              "      <td>N</td>\n",
              "      <td>Manual 5-spd</td>\n",
              "      <td>1993</td>\n",
              "    </tr>\n",
              "    <tr>\n",
              "      <th>43471</th>\n",
              "      <td>19</td>\n",
              "      <td>4.0</td>\n",
              "      <td>Regular</td>\n",
              "      <td>26</td>\n",
              "      <td>9977</td>\n",
              "      <td>Pontiac</td>\n",
              "      <td>Grand Am</td>\n",
              "      <td>N</td>\n",
              "      <td>Automatic 3-spd</td>\n",
              "      <td>1993</td>\n",
              "    </tr>\n",
              "    <tr>\n",
              "      <th>43472</th>\n",
              "      <td>19</td>\n",
              "      <td>4.0</td>\n",
              "      <td>Regular</td>\n",
              "      <td>29</td>\n",
              "      <td>9978</td>\n",
              "      <td>Pontiac</td>\n",
              "      <td>Grand Am</td>\n",
              "      <td>Y</td>\n",
              "      <td>Automatic 3-spd</td>\n",
              "      <td>1993</td>\n",
              "    </tr>\n",
              "    <tr>\n",
              "      <th>43473</th>\n",
              "      <td>21</td>\n",
              "      <td>4.0</td>\n",
              "      <td>Regular</td>\n",
              "      <td>32</td>\n",
              "      <td>9979</td>\n",
              "      <td>Pontiac</td>\n",
              "      <td>Grand Am</td>\n",
              "      <td>N</td>\n",
              "      <td>Manual 5-spd</td>\n",
              "      <td>1993</td>\n",
              "    </tr>\n",
              "    <tr>\n",
              "      <th>43474</th>\n",
              "      <td>14</td>\n",
              "      <td>6.0</td>\n",
              "      <td>Regular</td>\n",
              "      <td>17</td>\n",
              "      <td>998</td>\n",
              "      <td>Dodge</td>\n",
              "      <td>B150/B250 Wagon 2WD</td>\n",
              "      <td>N</td>\n",
              "      <td>Manual 4-spd</td>\n",
              "      <td>1985</td>\n",
              "    </tr>\n",
              "    <tr>\n",
              "      <th>43475</th>\n",
              "      <td>18</td>\n",
              "      <td>4.0</td>\n",
              "      <td>Premium</td>\n",
              "      <td>27</td>\n",
              "      <td>9980</td>\n",
              "      <td>Pontiac</td>\n",
              "      <td>Grand Am</td>\n",
              "      <td>N</td>\n",
              "      <td>Manual 5-spd</td>\n",
              "      <td>1993</td>\n",
              "    </tr>\n",
              "    <tr>\n",
              "      <th>43476</th>\n",
              "      <td>18</td>\n",
              "      <td>6.0</td>\n",
              "      <td>Regular</td>\n",
              "      <td>26</td>\n",
              "      <td>9981</td>\n",
              "      <td>Pontiac</td>\n",
              "      <td>Grand Am</td>\n",
              "      <td>N</td>\n",
              "      <td>Automatic 3-spd</td>\n",
              "      <td>1993</td>\n",
              "    </tr>\n",
              "    <tr>\n",
              "      <th>43477</th>\n",
              "      <td>23</td>\n",
              "      <td>4.0</td>\n",
              "      <td>Regular</td>\n",
              "      <td>29</td>\n",
              "      <td>9982</td>\n",
              "      <td>Pontiac</td>\n",
              "      <td>Lemans</td>\n",
              "      <td>N</td>\n",
              "      <td>Automatic 3-spd</td>\n",
              "      <td>1993</td>\n",
              "    </tr>\n",
              "    <tr>\n",
              "      <th>43478</th>\n",
              "      <td>24</td>\n",
              "      <td>4.0</td>\n",
              "      <td>Regular</td>\n",
              "      <td>34</td>\n",
              "      <td>9983</td>\n",
              "      <td>Pontiac</td>\n",
              "      <td>Lemans</td>\n",
              "      <td>N</td>\n",
              "      <td>Manual 4-spd</td>\n",
              "      <td>1993</td>\n",
              "    </tr>\n",
              "    <tr>\n",
              "      <th>43479</th>\n",
              "      <td>26</td>\n",
              "      <td>4.0</td>\n",
              "      <td>Regular</td>\n",
              "      <td>37</td>\n",
              "      <td>9984</td>\n",
              "      <td>Pontiac</td>\n",
              "      <td>Lemans</td>\n",
              "      <td>N</td>\n",
              "      <td>Manual 5-spd</td>\n",
              "      <td>1993</td>\n",
              "    </tr>\n",
              "    <tr>\n",
              "      <th>43480</th>\n",
              "      <td>10</td>\n",
              "      <td>8.0</td>\n",
              "      <td>Premium</td>\n",
              "      <td>15</td>\n",
              "      <td>9985</td>\n",
              "      <td>Rolls-Royce</td>\n",
              "      <td>Continental R</td>\n",
              "      <td>N</td>\n",
              "      <td>Automatic 4-spd</td>\n",
              "      <td>1993</td>\n",
              "    </tr>\n",
              "    <tr>\n",
              "      <th>43481</th>\n",
              "      <td>17</td>\n",
              "      <td>4.0</td>\n",
              "      <td>Regular</td>\n",
              "      <td>21</td>\n",
              "      <td>9986</td>\n",
              "      <td>Saab</td>\n",
              "      <td>900</td>\n",
              "      <td>Y</td>\n",
              "      <td>Automatic 3-spd</td>\n",
              "      <td>1993</td>\n",
              "    </tr>\n",
              "    <tr>\n",
              "      <th>43482</th>\n",
              "      <td>18</td>\n",
              "      <td>4.0</td>\n",
              "      <td>Regular</td>\n",
              "      <td>26</td>\n",
              "      <td>9987</td>\n",
              "      <td>Saab</td>\n",
              "      <td>900</td>\n",
              "      <td>N</td>\n",
              "      <td>Manual 5-spd</td>\n",
              "      <td>1993</td>\n",
              "    </tr>\n",
              "    <tr>\n",
              "      <th>43483</th>\n",
              "      <td>18</td>\n",
              "      <td>4.0</td>\n",
              "      <td>Premium</td>\n",
              "      <td>25</td>\n",
              "      <td>9988</td>\n",
              "      <td>Saab</td>\n",
              "      <td>900</td>\n",
              "      <td>N</td>\n",
              "      <td>Manual 5-spd</td>\n",
              "      <td>1993</td>\n",
              "    </tr>\n",
              "    <tr>\n",
              "      <th>43484</th>\n",
              "      <td>16</td>\n",
              "      <td>4.0</td>\n",
              "      <td>Regular</td>\n",
              "      <td>20</td>\n",
              "      <td>9989</td>\n",
              "      <td>Saab</td>\n",
              "      <td>900</td>\n",
              "      <td>N</td>\n",
              "      <td>Automatic 3-spd</td>\n",
              "      <td>1993</td>\n",
              "    </tr>\n",
              "    <tr>\n",
              "      <th>43485</th>\n",
              "      <td>11</td>\n",
              "      <td>8.0</td>\n",
              "      <td>Regular</td>\n",
              "      <td>13</td>\n",
              "      <td>999</td>\n",
              "      <td>Dodge</td>\n",
              "      <td>B150/B250 Wagon 2WD</td>\n",
              "      <td>N</td>\n",
              "      <td>Automatic 3-spd</td>\n",
              "      <td>1985</td>\n",
              "    </tr>\n",
              "    <tr>\n",
              "      <th>43486</th>\n",
              "      <td>18</td>\n",
              "      <td>4.0</td>\n",
              "      <td>Regular</td>\n",
              "      <td>24</td>\n",
              "      <td>9990</td>\n",
              "      <td>Saab</td>\n",
              "      <td>900</td>\n",
              "      <td>Y</td>\n",
              "      <td>Manual 5-spd</td>\n",
              "      <td>1993</td>\n",
              "    </tr>\n",
              "    <tr>\n",
              "      <th>43487</th>\n",
              "      <td>23</td>\n",
              "      <td>4.0</td>\n",
              "      <td>Regular</td>\n",
              "      <td>33</td>\n",
              "      <td>9991</td>\n",
              "      <td>Saturn</td>\n",
              "      <td>SL</td>\n",
              "      <td>Y</td>\n",
              "      <td>Automatic 4-spd</td>\n",
              "      <td>1993</td>\n",
              "    </tr>\n",
              "    <tr>\n",
              "      <th>43488</th>\n",
              "      <td>21</td>\n",
              "      <td>4.0</td>\n",
              "      <td>Regular</td>\n",
              "      <td>30</td>\n",
              "      <td>9992</td>\n",
              "      <td>Saturn</td>\n",
              "      <td>SL</td>\n",
              "      <td>Y</td>\n",
              "      <td>Automatic 4-spd</td>\n",
              "      <td>1993</td>\n",
              "    </tr>\n",
              "    <tr>\n",
              "      <th>43489</th>\n",
              "      <td>24</td>\n",
              "      <td>4.0</td>\n",
              "      <td>Regular</td>\n",
              "      <td>33</td>\n",
              "      <td>9993</td>\n",
              "      <td>Saturn</td>\n",
              "      <td>SL</td>\n",
              "      <td>Y</td>\n",
              "      <td>Manual 5-spd</td>\n",
              "      <td>1993</td>\n",
              "    </tr>\n",
              "    <tr>\n",
              "      <th>43490</th>\n",
              "      <td>21</td>\n",
              "      <td>4.0</td>\n",
              "      <td>Regular</td>\n",
              "      <td>32</td>\n",
              "      <td>9994</td>\n",
              "      <td>Saturn</td>\n",
              "      <td>SL</td>\n",
              "      <td>Y</td>\n",
              "      <td>Manual 5-spd</td>\n",
              "      <td>1993</td>\n",
              "    </tr>\n",
              "    <tr>\n",
              "      <th>43491</th>\n",
              "      <td>19</td>\n",
              "      <td>4.0</td>\n",
              "      <td>Regular</td>\n",
              "      <td>26</td>\n",
              "      <td>9995</td>\n",
              "      <td>Subaru</td>\n",
              "      <td>Legacy</td>\n",
              "      <td>N</td>\n",
              "      <td>Automatic 4-spd</td>\n",
              "      <td>1993</td>\n",
              "    </tr>\n",
              "    <tr>\n",
              "      <th>43492</th>\n",
              "      <td>20</td>\n",
              "      <td>4.0</td>\n",
              "      <td>Regular</td>\n",
              "      <td>28</td>\n",
              "      <td>9996</td>\n",
              "      <td>Subaru</td>\n",
              "      <td>Legacy</td>\n",
              "      <td>N</td>\n",
              "      <td>Manual 5-spd</td>\n",
              "      <td>1993</td>\n",
              "    </tr>\n",
              "    <tr>\n",
              "      <th>43493</th>\n",
              "      <td>18</td>\n",
              "      <td>4.0</td>\n",
              "      <td>Regular</td>\n",
              "      <td>24</td>\n",
              "      <td>9997</td>\n",
              "      <td>Subaru</td>\n",
              "      <td>Legacy AWD</td>\n",
              "      <td>Y</td>\n",
              "      <td>Automatic 4-spd</td>\n",
              "      <td>1993</td>\n",
              "    </tr>\n",
              "    <tr>\n",
              "      <th>43494</th>\n",
              "      <td>18</td>\n",
              "      <td>4.0</td>\n",
              "      <td>Regular</td>\n",
              "      <td>24</td>\n",
              "      <td>9998</td>\n",
              "      <td>Subaru</td>\n",
              "      <td>Legacy AWD</td>\n",
              "      <td>Y</td>\n",
              "      <td>Manual 5-spd</td>\n",
              "      <td>1993</td>\n",
              "    </tr>\n",
              "    <tr>\n",
              "      <th>43495</th>\n",
              "      <td>16</td>\n",
              "      <td>4.0</td>\n",
              "      <td>Premium</td>\n",
              "      <td>21</td>\n",
              "      <td>9999</td>\n",
              "      <td>Subaru</td>\n",
              "      <td>Legacy AWD Turbo</td>\n",
              "      <td>N</td>\n",
              "      <td>Automatic 4-spd</td>\n",
              "      <td>1993</td>\n",
              "    </tr>\n",
              "  </tbody>\n",
              "</table>\n",
              "</div>"
            ],
            "text/plain": [
              "       city08  cylinders fuelType  ...  mpgData            trany  year\n",
              "43466      23        4.0  Regular  ...        N     Manual 5-spd  1993\n",
              "43467      21        4.0  Regular  ...        N  Automatic 3-spd  1993\n",
              "43468      22        4.0  Regular  ...        N     Manual 5-spd  1993\n",
              "43469      18        6.0  Regular  ...        N  Automatic 4-spd  1993\n",
              "43470      17        6.0  Regular  ...        N     Manual 5-spd  1993\n",
              "43471      19        4.0  Regular  ...        N  Automatic 3-spd  1993\n",
              "43472      19        4.0  Regular  ...        Y  Automatic 3-spd  1993\n",
              "43473      21        4.0  Regular  ...        N     Manual 5-spd  1993\n",
              "43474      14        6.0  Regular  ...        N     Manual 4-spd  1985\n",
              "43475      18        4.0  Premium  ...        N     Manual 5-spd  1993\n",
              "43476      18        6.0  Regular  ...        N  Automatic 3-spd  1993\n",
              "43477      23        4.0  Regular  ...        N  Automatic 3-spd  1993\n",
              "43478      24        4.0  Regular  ...        N     Manual 4-spd  1993\n",
              "43479      26        4.0  Regular  ...        N     Manual 5-spd  1993\n",
              "43480      10        8.0  Premium  ...        N  Automatic 4-spd  1993\n",
              "43481      17        4.0  Regular  ...        Y  Automatic 3-spd  1993\n",
              "43482      18        4.0  Regular  ...        N     Manual 5-spd  1993\n",
              "43483      18        4.0  Premium  ...        N     Manual 5-spd  1993\n",
              "43484      16        4.0  Regular  ...        N  Automatic 3-spd  1993\n",
              "43485      11        8.0  Regular  ...        N  Automatic 3-spd  1985\n",
              "43486      18        4.0  Regular  ...        Y     Manual 5-spd  1993\n",
              "43487      23        4.0  Regular  ...        Y  Automatic 4-spd  1993\n",
              "43488      21        4.0  Regular  ...        Y  Automatic 4-spd  1993\n",
              "43489      24        4.0  Regular  ...        Y     Manual 5-spd  1993\n",
              "43490      21        4.0  Regular  ...        Y     Manual 5-spd  1993\n",
              "43491      19        4.0  Regular  ...        N  Automatic 4-spd  1993\n",
              "43492      20        4.0  Regular  ...        N     Manual 5-spd  1993\n",
              "43493      18        4.0  Regular  ...        Y  Automatic 4-spd  1993\n",
              "43494      18        4.0  Regular  ...        Y     Manual 5-spd  1993\n",
              "43495      16        4.0  Premium  ...        N  Automatic 4-spd  1993\n",
              "\n",
              "[30 rows x 10 columns]"
            ]
          },
          "metadata": {
            "tags": []
          },
          "execution_count": 14
        }
      ]
    },
    {
      "cell_type": "markdown",
      "metadata": {
        "id": "6ms6fNb_BbeV"
      },
      "source": [
        "This step will parse through the 'NPI' column and count the number of unique values."
      ]
    },
    {
      "cell_type": "code",
      "metadata": {
        "colab": {
          "base_uri": "https://localhost:8080/"
        },
        "id": "L9z21jJ7UMU5",
        "outputId": "ed30e912-89ef-44c6-c8ed-97e257bdade1"
      },
      "source": [
        "# counting unique values\n",
        "n = len(pd.unique(EPAdata['make']))\n",
        "  \n",
        "print(\"No.of.unique NPI :\", \n",
        "      n)"
      ],
      "execution_count": null,
      "outputs": [
        {
          "output_type": "stream",
          "text": [
            "No.of.unique NPI : 139\n"
          ],
          "name": "stdout"
        }
      ]
    },
    {
      "cell_type": "markdown",
      "metadata": {
        "id": "XFE1AjylBmnV"
      },
      "source": [
        "This step will parse through the 'State' column and count the number of states or territories.( Puerto Rico(PR) and Washington D.C. (DC) are in this dataset)"
      ]
    },
    {
      "cell_type": "code",
      "metadata": {
        "colab": {
          "base_uri": "https://localhost:8080/"
        },
        "id": "DkB1C7VcUa0M",
        "outputId": "132767a4-39c9-4851-9fa7-b01106647f9e"
      },
      "source": [
        "# counting unique values\n",
        "n = len(pd.unique(MDPPdata['State']))\n",
        "  \n",
        "print(\"No.of.unique States :\", \n",
        "      n)"
      ],
      "execution_count": null,
      "outputs": [
        {
          "output_type": "stream",
          "text": [
            "No.of.unique States : 48\n"
          ],
          "name": "stdout"
        }
      ]
    },
    {
      "cell_type": "markdown",
      "metadata": {
        "id": "d1ol-ozHB5Ai"
      },
      "source": [
        "This step will count the unique number of 'Unique ID\" entries.  This dataset is missing #360."
      ]
    },
    {
      "cell_type": "code",
      "metadata": {
        "colab": {
          "base_uri": "https://localhost:8080/"
        },
        "id": "J08VyaUoUqtG",
        "outputId": "6034d0f6-7972-4458-9445-05c97388b498"
      },
      "source": [
        "# counting unique values\n",
        "n = len(pd.unique(MDPPdata['Unique ID']))\n",
        "  \n",
        "print(\"No.of.unique IDs :\", \n",
        "      n)"
      ],
      "execution_count": null,
      "outputs": [
        {
          "output_type": "stream",
          "text": [
            "No.of.unique IDs : 940\n"
          ],
          "name": "stdout"
        }
      ]
    },
    {
      "cell_type": "markdown",
      "metadata": {
        "id": "bdxMmdAUCFni"
      },
      "source": [
        "This step shows the number of locations within each state.  It doesn't label the state directly."
      ]
    },
    {
      "cell_type": "code",
      "metadata": {
        "colab": {
          "base_uri": "https://localhost:8080/"
        },
        "id": "yiX6v7kRX8is",
        "outputId": "2e2308d8-02ae-4c77-fa12-28feb70ef40b"
      },
      "source": [
        "NumInState = list(MDPPdata.State.value_counts())\n",
        "print(NumInState)\n",
        "print('Couting the total number listed is : ',sum(NumInState))"
      ],
      "execution_count": null,
      "outputs": [
        {
          "output_type": "stream",
          "text": [
            "[180, 68, 68, 64, 45, 40, 38, 33, 33, 30, 25, 25, 25, 22, 18, 18, 18, 16, 15, 13, 12, 12, 11, 10, 9, 8, 7, 7, 7, 6, 6, 6, 6, 5, 5, 4, 4, 4, 3, 3, 2, 2, 2, 2, 1, 1, 1]\n",
            "Couting the total number listed is :  940\n"
          ],
          "name": "stdout"
        }
      ]
    },
    {
      "cell_type": "markdown",
      "metadata": {
        "id": "HQ6lBpr7CTro"
      },
      "source": [
        "This step does show the number of locations for each specific state."
      ]
    },
    {
      "cell_type": "code",
      "metadata": {
        "colab": {
          "base_uri": "https://localhost:8080/"
        },
        "id": "B4SuS5XvlW5H",
        "outputId": "ed84c073-37ef-4457-90cc-e5abbbbcb123"
      },
      "source": [
        "NumModelsPerMake = EPAdata.groupby('make')['model'].nunique()\n",
        "print(NumModelsPerMake)"
      ],
      "execution_count": null,
      "outputs": [
        {
          "output_type": "stream",
          "text": [
            "make\n",
            "AM General                      4\n",
            "ASC Incorporated                1\n",
            "Acura                          45\n",
            "Alfa Romeo                     12\n",
            "American Motors Corporation     4\n",
            "                               ..\n",
            "Volkswagen                     78\n",
            "Volvo                          91\n",
            "Wallace Environmental          18\n",
            "Yugo                            4\n",
            "smart                           8\n",
            "Name: model, Length: 139, dtype: int64\n"
          ],
          "name": "stdout"
        }
      ]
    },
    {
      "cell_type": "markdown",
      "metadata": {
        "id": "xf8-MRm8FOhp"
      },
      "source": [
        "This step will determine the number of unique 'Organization Type' and also the number of instances for each."
      ]
    },
    {
      "cell_type": "code",
      "metadata": {
        "colab": {
          "base_uri": "https://localhost:8080/"
        },
        "id": "rZVhnMu7FL2d",
        "outputId": "9f62fa91-63ff-421b-d854-83ea83b46734"
      },
      "source": [
        "NumModelsPerMake = EPAdata.groupby('make')['model'].count()\n",
        "print(NumModelsPerMake)\n",
        "#NumOrg_Type = MDPPdata.groupby('Organization type')['Organization type'].count()\n",
        "#print('Num of unique Organization Types : ',len(NumOrg_Type))\n",
        "#print('     ')   #  blank line for spacing\n",
        "#print('     ')   #  blank line for spacing\n",
        "#print('     ')   #  blank line for spacing\n",
        "#print(NumOrg_Type)"
      ],
      "execution_count": null,
      "outputs": [
        {
          "output_type": "stream",
          "text": [
            "make\n",
            "AM General                        6\n",
            "ASC Incorporated                  1\n",
            "Acura                           367\n",
            "Alfa Romeo                       75\n",
            "American Motors Corporation      27\n",
            "                               ... \n",
            "Volkswagen                     1223\n",
            "Volvo                           854\n",
            "Wallace Environmental            32\n",
            "Yugo                              8\n",
            "smart                            38\n",
            "Name: model, Length: 139, dtype: int64\n"
          ],
          "name": "stdout"
        }
      ]
    },
    {
      "cell_type": "code",
      "metadata": {
        "id": "rJs9UdDAD59Y"
      },
      "source": [
        "def unique_col_values(df):\n",
        "    for column in df:\n",
        "        print(\"{} | {} | {}\".format(\n",
        "            df[column].name, len(df[column].unique()), df[column].dtype\n",
        "        ))\n",
        "\n",
        "unique_col_values(vehicles)"
      ],
      "execution_count": null,
      "outputs": []
    },
    {
      "cell_type": "markdown",
      "metadata": {
        "id": "cSpFLalPEq5E"
      },
      "source": [
        "#Latex References\n",
        "\n",
        "https://stackoverflow.com/questions/13208286/how-to-write-latex-in-ipython-notebook\n",
        "\n",
        "https://nbviewer.jupyter.org/github/ipython/ipython/blob/2.x/examples/Notebook/Display%20System.ipynb#LaTeX\n",
        "\n",
        "https://jupyter-notebook.readthedocs.io/en/latest/examples/Notebook/Typesetting%20Equations.html\n",
        "\n",
        "https://towardsdatascience.com/write-markdown-latex-in-the-jupyter-notebook-10985edb91fd"
      ]
    },
    {
      "cell_type": "code",
      "metadata": {
        "colab": {
          "base_uri": "https://localhost:8080/",
          "height": 118
        },
        "id": "IKT6McCjcflX",
        "outputId": "ad5233a8-86c7-4325-9f28-5667ffff8e54"
      },
      "source": [
        "%%latex\n",
        "\\begin{align}\n",
        "\\nabla \\times \\vec{\\mathbf{B}} -\\, \\frac1c\\, \\frac{\\partial\\vec{\\mathbf{E}}}{\\partial t} & = \\frac{4\\pi}{c}\\vec{\\mathbf{j}} \\\\\n",
        "\\nabla \\cdot \\vec{\\mathbf{E}} & = 4 \\pi \\rho \\\\\n",
        "\\nabla \\times \\vec{\\mathbf{E}}\\, +\\, \\frac1c\\, \\frac{\\partial\\vec{\\mathbf{B}}}{\\partial t} & = \\vec{\\mathbf{0}} \\\\\n",
        "\\nabla \\cdot \\vec{\\mathbf{B}} & = 0\n",
        "\\end{align}\n"
      ],
      "execution_count": null,
      "outputs": [
        {
          "output_type": "display_data",
          "data": {
            "text/latex": "\\begin{align}\n\\nabla \\times \\vec{\\mathbf{B}} -\\, \\frac1c\\, \\frac{\\partial\\vec{\\mathbf{E}}}{\\partial t} & = \\frac{4\\pi}{c}\\vec{\\mathbf{j}} \\\\\n\\nabla \\cdot \\vec{\\mathbf{E}} & = 4 \\pi \\rho \\\\\n\\nabla \\times \\vec{\\mathbf{E}}\\, +\\, \\frac1c\\, \\frac{\\partial\\vec{\\mathbf{B}}}{\\partial t} & = \\vec{\\mathbf{0}} \\\\\n\\nabla \\cdot \\vec{\\mathbf{B}} & = 0\n\\end{align}",
            "text/plain": [
              "<IPython.core.display.Latex object>"
            ]
          },
          "metadata": {
            "tags": []
          }
        }
      ]
    },
    {
      "cell_type": "markdown",
      "metadata": {
        "id": "0Y7QIuqWchyK"
      },
      "source": [
        "%%latex\n",
        "\\begin{align}\n",
        "\\nabla \\times \\vec{\\mathbf{B}} -\\, \\frac1c\\, \\frac{\\partial\\vec{\\mathbf{E}}}{\\partial t} & = \\frac{4\\pi}{c}\\vec{\\mathbf{j}} \\\\\n",
        "\\nabla \\cdot \\vec{\\mathbf{E}} & = 4 \\pi \\rho \\\\\n",
        "\\nabla \\times \\vec{\\mathbf{E}}\\, +\\, \\frac1c\\, \\frac{\\partial\\vec{\\mathbf{B}}}{\\partial t} & = \\vec{\\mathbf{0}} \\\\\n",
        "\\nabla \\cdot \\vec{\\mathbf{B}} & = 0\n",
        "\\end{align}\n"
      ]
    }
  ]
}